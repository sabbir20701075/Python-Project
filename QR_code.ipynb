{
  "nbformat": 4,
  "nbformat_minor": 0,
  "metadata": {
    "colab": {
      "provenance": [],
      "authorship_tag": "ABX9TyP2IsSTZUv7xXdTaYo7EOtO",
      "include_colab_link": true
    },
    "kernelspec": {
      "name": "python3",
      "display_name": "Python 3"
    },
    "language_info": {
      "name": "python"
    }
  },
  "cells": [
    {
      "cell_type": "markdown",
      "metadata": {
        "id": "view-in-github",
        "colab_type": "text"
      },
      "source": [
        "<a href=\"https://colab.research.google.com/github/sabbir20701075/Python-Project/blob/main/QR_code.ipynb\" target=\"_parent\"><img src=\"https://colab.research.google.com/assets/colab-badge.svg\" alt=\"Open In Colab\"/></a>"
      ]
    },
    {
      "cell_type": "code",
      "execution_count": 6,
      "metadata": {
        "colab": {
          "base_uri": "https://localhost:8080/"
        },
        "id": "2rPB2cgkNlG6",
        "outputId": "ec9a8755-ed0a-4af6-bab6-c4228bcc3ce1"
      },
      "outputs": [
        {
          "output_type": "stream",
          "name": "stdout",
          "text": [
            "Requirement already satisfied: qrcode[pil] in /usr/local/lib/python3.11/dist-packages (8.2)\n",
            "Requirement already satisfied: pillow>=9.1.0 in /usr/local/lib/python3.11/dist-packages (from qrcode[pil]) (11.2.1)\n"
          ]
        }
      ],
      "source": [
        "pip install qrcode[pil]"
      ]
    },
    {
      "cell_type": "markdown",
      "source": [],
      "metadata": {
        "id": "tUYTBeGH6gsB"
      }
    },
    {
      "cell_type": "code",
      "source": [
        "import qrcode as qrr\n",
        "from PIL import Image\n",
        "qr=qrr.QRCode(version=1,error_correction=qrr.constants.ERROR_CORRECT_H,box_size=20,border=4,)\n",
        "qr.add_data(\"https://www.youtube.com/watch?v=FOGRHBp6lvM&list=PLjVLYmrlmjGfAUdLiF2bQ-0l8SwNZ1sBl\")\n",
        "qr.make(fit=True)\n",
        "img=qr.make_image(fill_color=\"Red\",back_color=\"White\")\n",
        "img.save(\"demo_qr.png\")"
      ],
      "metadata": {
        "id": "jOSCZHHjN_FJ"
      },
      "execution_count": 8,
      "outputs": []
    },
    {
      "cell_type": "code",
      "source": [],
      "metadata": {
        "id": "YUi60mzYObgP"
      },
      "execution_count": null,
      "outputs": []
    }
  ]
}