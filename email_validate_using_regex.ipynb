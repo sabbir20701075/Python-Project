{
  "nbformat": 4,
  "nbformat_minor": 0,
  "metadata": {
    "colab": {
      "provenance": [],
      "authorship_tag": "ABX9TyP22d8M/za7ZmWArchFpYx+",
      "include_colab_link": true
    },
    "kernelspec": {
      "name": "python3",
      "display_name": "Python 3"
    },
    "language_info": {
      "name": "python"
    }
  },
  "cells": [
    {
      "cell_type": "markdown",
      "metadata": {
        "id": "view-in-github",
        "colab_type": "text"
      },
      "source": [
        "<a href=\"https://colab.research.google.com/github/sabbir20701075/Python-Project/blob/main/email_validate_using_regex.ipynb\" target=\"_parent\"><img src=\"https://colab.research.google.com/assets/colab-badge.svg\" alt=\"Open In Colab\"/></a>"
      ]
    },
    {
      "cell_type": "code",
      "execution_count": 13,
      "metadata": {
        "id": "2rPB2cgkNlG6"
      },
      "outputs": [],
      "source": [
        "import re\n",
        "def validate_email(email):\n",
        "  pattern=r'^[\\w\\.-]+@[\\w\\.-]+\\.\\w+$'\n",
        "  return re.match(pattern,email) is not None"
      ]
    },
    {
      "cell_type": "markdown",
      "source": [],
      "metadata": {
        "id": "tUYTBeGH6gsB"
      }
    },
    {
      "cell_type": "code",
      "source": [
        "if validate_email(\"sabbir.csecu@gmail.com\"):\n",
        "  print(\"Valid email address\")\n",
        "else:\n",
        "  print(\"Invalid email address\")"
      ],
      "metadata": {
        "colab": {
          "base_uri": "https://localhost:8080/"
        },
        "id": "jOSCZHHjN_FJ",
        "outputId": "785aa7a4-8a19-4c0f-a5ac-f9f5d069a24c"
      },
      "execution_count": 17,
      "outputs": [
        {
          "output_type": "stream",
          "name": "stdout",
          "text": [
            "Valid email address\n"
          ]
        }
      ]
    },
    {
      "cell_type": "code",
      "source": [],
      "metadata": {
        "id": "YUi60mzYObgP"
      },
      "execution_count": null,
      "outputs": []
    }
  ]
}