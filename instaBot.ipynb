{
  "nbformat": 4,
  "nbformat_minor": 0,
  "metadata": {
    "colab": {
      "provenance": [],
      "authorship_tag": "ABX9TyOhBENwS+8y2NMahgiV6YoT",
      "include_colab_link": true
    },
    "kernelspec": {
      "name": "python3",
      "display_name": "Python 3"
    },
    "language_info": {
      "name": "python"
    }
  },
  "cells": [
    {
      "cell_type": "markdown",
      "metadata": {
        "id": "view-in-github",
        "colab_type": "text"
      },
      "source": [
        "<a href=\"https://colab.research.google.com/github/sabbir20701075/Python-Project/blob/main/instaBot.ipynb\" target=\"_parent\"><img src=\"https://colab.research.google.com/assets/colab-badge.svg\" alt=\"Open In Colab\"/></a>"
      ]
    },
    {
      "cell_type": "code",
      "execution_count": 1,
      "metadata": {
        "colab": {
          "base_uri": "https://localhost:8080/"
        },
        "collapsed": true,
        "id": "KE-Qausm3iFO",
        "outputId": "aade440a-1b63-42c1-d4b3-8c59adbe36b4"
      },
      "outputs": [
        {
          "output_type": "stream",
          "name": "stdout",
          "text": [
            "Collecting instagrapi\n",
            "  Downloading instagrapi-2.1.3.tar.gz (102 kB)\n",
            "\u001b[2K     \u001b[90m━━━━━━━━━━━━━━━━━━━━━━━━━━━━━━━━━━━━━━━\u001b[0m \u001b[32m102.6/102.6 kB\u001b[0m \u001b[31m1.7 MB/s\u001b[0m eta \u001b[36m0:00:00\u001b[0m\n",
            "\u001b[?25h  Preparing metadata (setup.py) ... \u001b[?25l\u001b[?25hdone\n",
            "Requirement already satisfied: requests<3.0,>=2.25.1 in /usr/local/lib/python3.11/dist-packages (from instagrapi) (2.32.3)\n",
            "Requirement already satisfied: PySocks==1.7.1 in /usr/local/lib/python3.11/dist-packages (from instagrapi) (1.7.1)\n",
            "Collecting pydantic==2.10.1 (from instagrapi)\n",
            "  Downloading pydantic-2.10.1-py3-none-any.whl.metadata (169 kB)\n",
            "\u001b[2K     \u001b[90m━━━━━━━━━━━━━━━━━━━━━━━━━━━━━━━━━━━━━━━\u001b[0m \u001b[32m169.7/169.7 kB\u001b[0m \u001b[31m3.7 MB/s\u001b[0m eta \u001b[36m0:00:00\u001b[0m\n",
            "\u001b[?25hCollecting pycryptodomex==3.21.0 (from instagrapi)\n",
            "  Downloading pycryptodomex-3.21.0-cp36-abi3-manylinux_2_17_x86_64.manylinux2014_x86_64.whl.metadata (3.4 kB)\n",
            "Requirement already satisfied: annotated-types>=0.6.0 in /usr/local/lib/python3.11/dist-packages (from pydantic==2.10.1->instagrapi) (0.7.0)\n",
            "Collecting pydantic-core==2.27.1 (from pydantic==2.10.1->instagrapi)\n",
            "  Downloading pydantic_core-2.27.1-cp311-cp311-manylinux_2_17_x86_64.manylinux2014_x86_64.whl.metadata (6.6 kB)\n",
            "Requirement already satisfied: typing-extensions>=4.12.2 in /usr/local/lib/python3.11/dist-packages (from pydantic==2.10.1->instagrapi) (4.13.2)\n",
            "Requirement already satisfied: charset-normalizer<4,>=2 in /usr/local/lib/python3.11/dist-packages (from requests<3.0,>=2.25.1->instagrapi) (3.4.1)\n",
            "Requirement already satisfied: idna<4,>=2.5 in /usr/local/lib/python3.11/dist-packages (from requests<3.0,>=2.25.1->instagrapi) (3.10)\n",
            "Requirement already satisfied: urllib3<3,>=1.21.1 in /usr/local/lib/python3.11/dist-packages (from requests<3.0,>=2.25.1->instagrapi) (2.4.0)\n",
            "Requirement already satisfied: certifi>=2017.4.17 in /usr/local/lib/python3.11/dist-packages (from requests<3.0,>=2.25.1->instagrapi) (2025.4.26)\n",
            "Downloading pycryptodomex-3.21.0-cp36-abi3-manylinux_2_17_x86_64.manylinux2014_x86_64.whl (2.3 MB)\n",
            "\u001b[2K   \u001b[90m━━━━━━━━━━━━━━━━━━━━━━━━━━━━━━━━━━━━━━━━\u001b[0m \u001b[32m2.3/2.3 MB\u001b[0m \u001b[31m29.0 MB/s\u001b[0m eta \u001b[36m0:00:00\u001b[0m\n",
            "\u001b[?25hDownloading pydantic-2.10.1-py3-none-any.whl (455 kB)\n",
            "\u001b[2K   \u001b[90m━━━━━━━━━━━━━━━━━━━━━━━━━━━━━━━━━━━━━━━━\u001b[0m \u001b[32m455.3/455.3 kB\u001b[0m \u001b[31m15.2 MB/s\u001b[0m eta \u001b[36m0:00:00\u001b[0m\n",
            "\u001b[?25hDownloading pydantic_core-2.27.1-cp311-cp311-manylinux_2_17_x86_64.manylinux2014_x86_64.whl (2.1 MB)\n",
            "\u001b[2K   \u001b[90m━━━━━━━━━━━━━━━━━━━━━━━━━━━━━━━━━━━━━━━━\u001b[0m \u001b[32m2.1/2.1 MB\u001b[0m \u001b[31m37.9 MB/s\u001b[0m eta \u001b[36m0:00:00\u001b[0m\n",
            "\u001b[?25hBuilding wheels for collected packages: instagrapi\n",
            "  Building wheel for instagrapi (setup.py) ... \u001b[?25l\u001b[?25hdone\n",
            "  Created wheel for instagrapi: filename=instagrapi-2.1.3-py3-none-any.whl size=116362 sha256=2ad622ddf2e311f9d6d39942d46023382e979fd8e3d85974123f728df3474e95\n",
            "  Stored in directory: /root/.cache/pip/wheels/31/c0/63/7ad4ef727751385676d1987f63b99b76c56adbbd043c17aa59\n",
            "Successfully built instagrapi\n",
            "Installing collected packages: pydantic-core, pycryptodomex, pydantic, instagrapi\n",
            "  Attempting uninstall: pydantic-core\n",
            "    Found existing installation: pydantic_core 2.33.1\n",
            "    Uninstalling pydantic_core-2.33.1:\n",
            "      Successfully uninstalled pydantic_core-2.33.1\n",
            "  Attempting uninstall: pydantic\n",
            "    Found existing installation: pydantic 2.11.3\n",
            "    Uninstalling pydantic-2.11.3:\n",
            "      Successfully uninstalled pydantic-2.11.3\n",
            "Successfully installed instagrapi-2.1.3 pycryptodomex-3.21.0 pydantic-2.10.1 pydantic-core-2.27.1\n"
          ]
        }
      ],
      "source": [
        "pip install instagrapi"
      ]
    },
    {
      "cell_type": "code",
      "source": [
        "from instagrapi import Client\n",
        "cl=Client()\n",
        "cl.login(\"_mehedi_sabbir\",\"enter_password\")\n"
      ],
      "metadata": {
        "colab": {
          "base_uri": "https://localhost:8080/"
        },
        "collapsed": true,
        "id": "FiNNdKG63vis",
        "outputId": "269b9223-990f-4684-ba95-0970ad064b1a"
      },
      "execution_count": 3,
      "outputs": [
        {
          "output_type": "stream",
          "name": "stderr",
          "text": [
            "/usr/local/lib/python3.11/dist-packages/urllib3/connectionpool.py:1097: InsecureRequestWarning: Unverified HTTPS request is being made to host 'i.instagram.com'. Adding certificate verification is strongly advised. See: https://urllib3.readthedocs.io/en/latest/advanced-usage.html#tls-warnings\n",
            "  warnings.warn(\n"
          ]
        },
        {
          "output_type": "stream",
          "name": "stdout",
          "text": [
            "Enter code (6 digits) for _mehedi_sabbir (ChallengeChoice.EMAIL): mehedihasansabbirstudent8@gmail.com\n",
            "Enter code (6 digits) for _mehedi_sabbir (ChallengeChoice.EMAIL): 016995\n",
            "Code entered \"016995\" for _mehedi_sabbir (0 attempts by 5 seconds)\n"
          ]
        },
        {
          "output_type": "execute_result",
          "data": {
            "text/plain": [
              "True"
            ]
          },
          "metadata": {},
          "execution_count": 3
        }
      ]
    },
    {
      "cell_type": "code",
      "source": [
        "user_id=cl.user_id_from_username(\"_umlazy_\")\n",
        "cl.direct_send(\"Hey, this is an automated message using python.\",[user_id])"
      ],
      "metadata": {
        "colab": {
          "base_uri": "https://localhost:8080/"
        },
        "collapsed": true,
        "id": "Ms8loVPa5kKT",
        "outputId": "0ffd7716-f13e-421f-b7db-92595031b0b6"
      },
      "execution_count": 8,
      "outputs": [
        {
          "output_type": "execute_result",
          "data": {
            "text/plain": [
              "DirectMessage(id='32216440656765899942508306246926336', user_id='', thread_id=340282366841710301244259372640722183881, timestamp=datetime.datetime(2025, 5, 5, 14, 52, 27), item_type=None, is_sent_by_viewer=None, is_shh_mode=None, reactions=None, text=None, reply=None, link=None, animated_media=None, media=None, visual_media=None, media_share=None, reel_share=None, story_share=None, felix_share=None, xma_share=None, clip=None, placeholder=None, client_context='6800041133333745796')"
            ]
          },
          "metadata": {},
          "execution_count": 8
        }
      ]
    },
    {
      "cell_type": "code",
      "source": [
        "followers = cl.user_followers(cl.user_id, amount=100)\n",
        "for user_id, user_info in followers.items():\n",
        "    print(user_info.username)"
      ],
      "metadata": {
        "colab": {
          "base_uri": "https://localhost:8080/"
        },
        "collapsed": true,
        "id": "touiNFtg7-10",
        "outputId": "d0723cb3-55aa-495b-987a-96c0b27f0fe7"
      },
      "execution_count": 13,
      "outputs": [
        {
          "output_type": "stream",
          "name": "stdout",
          "text": [
            "_monir.hossain._\n",
            "navidjamil9i27\n",
            "zeba_tasnia__\n",
            "f.s.ananna\n",
            "_na.bi.l_\n",
            "sanjida18221\n",
            "opi_biswas54\n",
            "tanjir__koushik\n",
            "asadullahakash\n",
            "imdad_rakib\n",
            "tsuraiaa\n",
            "ashik_ikhuan\n",
            "elaichiiiii__\n",
            "arafat7r5\n",
            "unofficialanik\n",
            "sajid_islam911\n",
            "iam_opuuu\n",
            "rozzzz04\n",
            "_shanto3_\n",
            "_sa_ni_m\n",
            "shahriar_220_284\n",
            "ajkshahru\n",
            "shible077\n",
            "ajmainmahtab\n",
            "_ary.an__\n",
            "harris_pranto\n",
            "s._quare_.hammer._\n",
            "faishalmohammedkhalid\n",
            "ih7_the_phenomenon\n",
            "ndm_025\n",
            "s.a_rinop\n",
            "itz__thada\n",
            "_shhhhoaib_\n",
            "shajid__62\n",
            "sabrina_afrin04\n",
            "mr._.ishmaamagic._\n",
            "sadiasharmin460\n",
            "salima_akhtar_nabila\n",
            "sadia4058\n",
            "souravbarman403\n",
            "rafi_hossain_75\n",
            "_mac1452_\n",
            "shoaibbaaa\n",
            "_nahidkabir\n",
            "_nymrahman\n",
            "_saddosaurus_\n",
            "mofazzal_titon\n",
            "s_a_k_i_b_1056\n",
            "m_hasan_yy\n",
            "dr.samed4661\n",
            "fahuuuuuuuuu_________\n",
            "mujahid_bin_taher\n",
            "mahfujasolaiman\n",
            "oshoman_0\n",
            "a.s.i.f_minhaz\n",
            "_tahsaan.__\n",
            "jahedulsumon32\n",
            "asif_mahmud_meraj\n",
            "tawseef_1607\n",
            "masumhasan21\n",
            "a_fah1m\n",
            "nilgiri.nilgiri.96\n",
            "rozenmund04\n",
            "iamkashfim\n",
            "sujoyroy1313\n",
            "hm_imtiaz07\n",
            "wear.verse\n",
            "wakil_ahmed_ony\n",
            "ra_kib2608\n",
            "stories_with_mahfuz\n",
            "rafayet_h14\n",
            "mebedi_hasan_mh10\n",
            "sumaiya.hasan.1650332\n",
            "arcofrohit\n",
            "_umlazy_\n",
            "sm_rakib_hasaan\n",
            "jannat_ul99\n",
            "its___miskat\n",
            "kazi_omar_sharif\n",
            "_priya_barua_\n",
            "kais_lies\n",
            "kaka_shojib\n",
            "kazi_afsar_16\n",
            "your___rabby\n",
            "ramisamystic\n",
            "eshika_alam\n",
            "imsourav_bhau\n",
            "avinash_sinha7\n",
            "_muaz__mahi_\n",
            "adil.ahnaf.exists\n",
            "illiusionofu\n",
            "mubin_akib\n",
            "mehedi_al_salam_fahim\n",
            "imtiajbinaoual\n",
            "_cosmicc___\n",
            "sanoar_hossain_29\n",
            "emam_hossain_easin\n",
            "abid_jafar_salman\n",
            "mushfiq_007\n",
            "rishatimtiaz\n"
          ]
        }
      ]
    }
  ]
}